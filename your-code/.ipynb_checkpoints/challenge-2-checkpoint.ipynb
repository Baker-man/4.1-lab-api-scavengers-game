{
 "cells": [
  {
   "cell_type": "markdown",
   "id": "threaded-asbestos",
   "metadata": {},
   "source": [
    "# Challenge 2: Count Commits\n",
    "\n",
    "Count how many commits were made in the past week.\n",
    "\n",
    "Obtain all the commits made in the past week via API, which is a JSON array that contains multiple commit objects.\n",
    "\n",
    "Count how many commit objects are contained in the array."
   ]
  },
  {
   "cell_type": "markdown",
   "id": "norwegian-praise",
   "metadata": {},
   "source": [
    "⚠️ **Remember to limit your output before submission**."
   ]
  },
  {
   "cell_type": "code",
   "execution_count": 1,
   "id": "developing-printing",
   "metadata": {},
   "outputs": [],
   "source": [
    "#Your code"
   ]
  },
  {
   "cell_type": "code",
   "execution_count": 2,
   "id": "creative-stable",
   "metadata": {},
   "outputs": [],
   "source": [
    "# Example: print(variable[:10]) "
   ]
  },
  {
   "cell_type": "code",
   "execution_count": 1,
   "id": "ongoing-taylor",
   "metadata": {},
   "outputs": [],
   "source": [
    "import json #json\n",
    "import requests"
   ]
  },
  {
   "cell_type": "code",
   "execution_count": 2,
   "id": "9660b14a",
   "metadata": {},
   "outputs": [],
   "source": [
    "with open('C:\\FTDA\\Labs\\PAT.txt', 'r') as file:\n",
    "    pass_=file.readlines()\n",
    "\n",
    "token = ''.join(pass_)"
   ]
  },
  {
   "cell_type": "code",
   "execution_count": 3,
   "id": "a1ed42f5",
   "metadata": {},
   "outputs": [],
   "source": [
    "import requests as req"
   ]
  },
  {
   "cell_type": "code",
   "execution_count": 21,
   "id": "a5310ed1",
   "metadata": {},
   "outputs": [],
   "source": [
    "url='https://api.github.com/repos/Ironhack-Data-Madrid-Octubre-2022/apuntes_clase/commits'\n",
    "\n",
    "header={'Authorization': 'token ' + token}\n",
    "\n",
    "res=req.get(url, headers=header)"
   ]
  },
  {
   "cell_type": "code",
   "execution_count": 22,
   "id": "f79a288f",
   "metadata": {},
   "outputs": [
    {
     "data": {
      "text/plain": [
       "'2022-11-07T08:54:15Z'"
      ]
     },
     "execution_count": 22,
     "metadata": {},
     "output_type": "execute_result"
    }
   ],
   "source": [
    "res.json()[1]['commit']['author']['date']"
   ]
  },
  {
   "cell_type": "markdown",
   "id": "e2cfed22",
   "metadata": {},
   "source": [
    "#### Número de commits en la última semana"
   ]
  },
  {
   "cell_type": "code",
   "execution_count": 23,
   "id": "c4b5199a",
   "metadata": {},
   "outputs": [
    {
     "name": "stdout",
     "output_type": "stream",
     "text": [
      "18\n"
     ]
    }
   ],
   "source": [
    "number = []\n",
    "for i in range(len(res.json())):\n",
    "    \n",
    "    if res.json()[i]['commit']['author']['date'] > '2022-10-31T00:00:00Z':\n",
    "        number.append(res.json()[i]['commit']['author']['date'])\n",
    "    else:\n",
    "        None\n",
    "print(len(number))"
   ]
  },
  {
   "cell_type": "code",
   "execution_count": null,
   "id": "4efc4e13",
   "metadata": {},
   "outputs": [],
   "source": []
  }
 ],
 "metadata": {
  "kernelspec": {
   "display_name": "Python 3 (ipykernel)",
   "language": "python",
   "name": "python3"
  },
  "language_info": {
   "codemirror_mode": {
    "name": "ipython",
    "version": 3
   },
   "file_extension": ".py",
   "mimetype": "text/x-python",
   "name": "python",
   "nbconvert_exporter": "python",
   "pygments_lexer": "ipython3",
   "version": "3.9.12"
  },
  "toc": {
   "base_numbering": 1,
   "nav_menu": {},
   "number_sections": true,
   "sideBar": true,
   "skip_h1_title": true,
   "title_cell": "Table of Contents",
   "title_sidebar": "Contents",
   "toc_cell": false,
   "toc_position": {
    "height": "calc(100% - 180px)",
    "left": "10px",
    "top": "150px",
    "width": "288px"
   },
   "toc_section_display": true,
   "toc_window_display": true
  }
 },
 "nbformat": 4,
 "nbformat_minor": 5
}

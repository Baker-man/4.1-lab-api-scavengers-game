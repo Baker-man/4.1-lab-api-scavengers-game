{
 "cells": [
  {
   "cell_type": "markdown",
   "id": "defensive-clock",
   "metadata": {},
   "source": [
    "# Challenge 3: Hidden Cold Joke\n",
    "\n",
    "Using Python, call Github API to find out the cold joke contained in the 24 secret files in the following repo:\n",
    "\n",
    "https://github.com/ironhack-datalabs/scavenger\n",
    "\n",
    "The filenames of the secret files contain .scavengerhunt and they are scattered in different directories of this repo. The secret files are named from .0001.scavengerhunt to .0024.scavengerhunt. They are scattered randomly throughout this repo. You need to search for these files by calling the Github API, not searching the local files on your computer.\n",
    "\n",
    "\n",
    "After you find out the secrete files:\n",
    "\n",
    "Sort the filenames ascendingly.\n",
    "\n",
    "Read the content of each secret files into an array of strings.\n",
    "\n",
    "Concatenate the strings in the array separating each two with a whitespace.\n",
    "\n",
    "Print out the joke."
   ]
  },
  {
   "cell_type": "markdown",
   "id": "universal-length",
   "metadata": {},
   "source": [
    "⚠️ **Remember to limit your output before submission**."
   ]
  },
  {
   "cell_type": "code",
   "execution_count": 1,
   "id": "toxic-trading",
   "metadata": {},
   "outputs": [],
   "source": [
    "# Your code"
   ]
  },
  {
   "cell_type": "code",
   "execution_count": 2,
   "id": "static-stopping",
   "metadata": {},
   "outputs": [],
   "source": [
    "# Example: print(variable[:10]) "
   ]
  },
  {
   "cell_type": "code",
   "execution_count": 3,
   "id": "1aeef7b5",
   "metadata": {},
   "outputs": [],
   "source": [
    "import json #json\n",
    "import requests"
   ]
  },
  {
   "cell_type": "code",
   "execution_count": 4,
   "id": "ef7e0e30",
   "metadata": {},
   "outputs": [],
   "source": [
    "with open('C:\\FTDA\\Labs\\PAT.txt', 'r') as file:\n",
    "    pass_=file.readlines()\n",
    "\n",
    "token = ''.join(pass_)"
   ]
  },
  {
   "cell_type": "code",
   "execution_count": 5,
   "id": "05424ba7",
   "metadata": {},
   "outputs": [],
   "source": [
    "import requests as req"
   ]
  },
  {
   "cell_type": "code",
   "execution_count": 6,
   "id": "4004588b",
   "metadata": {},
   "outputs": [],
   "source": [
    "url='https://api.github.com/repos/ironhack-datalabs/scavenger'\n",
    "\n",
    "header={'Authorization': 'token ' + token}\n",
    "\n",
    "res=req.get(url, headers=header)"
   ]
  },
  {
   "cell_type": "code",
   "execution_count": 7,
   "id": "999102a9",
   "metadata": {},
   "outputs": [
    {
     "data": {
      "text/plain": [
       "<Response [200]>"
      ]
     },
     "execution_count": 7,
     "metadata": {},
     "output_type": "execute_result"
    }
   ],
   "source": [
    "res"
   ]
  },
  {
   "cell_type": "code",
   "execution_count": 39,
   "id": "7f8d175e",
   "metadata": {},
   "outputs": [
    {
     "data": {
      "text/plain": [
       "{'name': '.gitignore',\n",
       " 'path': '.gitignore',\n",
       " 'sha': 'e43b0f988953ae3a84b00331d0ccf5f7d51cb3cf',\n",
       " 'size': 10,\n",
       " 'url': 'https://api.github.com/repos/ironhack-datalabs/scavenger/contents/.gitignore?ref=master',\n",
       " 'html_url': 'https://github.com/ironhack-datalabs/scavenger/blob/master/.gitignore',\n",
       " 'git_url': 'https://api.github.com/repos/ironhack-datalabs/scavenger/git/blobs/e43b0f988953ae3a84b00331d0ccf5f7d51cb3cf',\n",
       " 'download_url': 'https://raw.githubusercontent.com/ironhack-datalabs/scavenger/master/.gitignore',\n",
       " 'type': 'file',\n",
       " 'content': 'LkRTX1N0b3JlCg==\\n',\n",
       " 'encoding': 'base64',\n",
       " '_links': {'self': 'https://api.github.com/repos/ironhack-datalabs/scavenger/contents/.gitignore?ref=master',\n",
       "  'git': 'https://api.github.com/repos/ironhack-datalabs/scavenger/git/blobs/e43b0f988953ae3a84b00331d0ccf5f7d51cb3cf',\n",
       "  'html': 'https://github.com/ironhack-datalabs/scavenger/blob/master/.gitignore'}}"
      ]
     },
     "execution_count": 39,
     "metadata": {},
     "output_type": "execute_result"
    }
   ],
   "source": [
    "res.json()"
   ]
  },
  {
   "cell_type": "markdown",
   "id": "ae9da941",
   "metadata": {},
   "source": [
    "## 1."
   ]
  },
  {
   "cell_type": "code",
   "execution_count": 102,
   "id": "7bddf9ad",
   "metadata": {},
   "outputs": [],
   "source": [
    "url2='https://api.github.com/repos/ironhack-datalabs/scavenger/contents/'\n",
    "\n",
    "header={'Authorization': 'token ' + token}\n",
    "\n",
    "res=req.get(url2, headers=header)"
   ]
  },
  {
   "cell_type": "code",
   "execution_count": 103,
   "id": "bc2772af",
   "metadata": {},
   "outputs": [
    {
     "data": {
      "text/plain": [
       "<Response [200]>"
      ]
     },
     "execution_count": 103,
     "metadata": {},
     "output_type": "execute_result"
    }
   ],
   "source": [
    "res"
   ]
  },
  {
   "cell_type": "code",
   "execution_count": 116,
   "id": "c92cb43f",
   "metadata": {},
   "outputs": [
    {
     "data": {
      "text/plain": [
       "'https://api.github.com/repos/ironhack-datalabs/scavenger/git/trees/2945e51c87ad5da893c954afcf092f06343bbb7d'"
      ]
     },
     "execution_count": 116,
     "metadata": {},
     "output_type": "execute_result"
    }
   ],
   "source": [
    "res.json()[1]['git_url']"
   ]
  },
  {
   "cell_type": "markdown",
   "id": "8ce31f49",
   "metadata": {},
   "source": [
    "## 2."
   ]
  },
  {
   "cell_type": "code",
   "execution_count": 118,
   "id": "b4b55e4b",
   "metadata": {},
   "outputs": [],
   "source": [
    "url3='https://api.github.com/repos/ironhack-datalabs/scavenger/git/trees/2945e51c87ad5da893c954afcf092f06343bbb7d'\n",
    "\n",
    "header={'Authorization': 'token ' + token}\n",
    "\n",
    "res=req.get(url3, headers=header)"
   ]
  },
  {
   "cell_type": "code",
   "execution_count": 119,
   "id": "a8c0ef21",
   "metadata": {},
   "outputs": [
    {
     "data": {
      "text/plain": [
       "<Response [200]>"
      ]
     },
     "execution_count": 119,
     "metadata": {},
     "output_type": "execute_result"
    }
   ],
   "source": [
    "res"
   ]
  },
  {
   "cell_type": "code",
   "execution_count": 121,
   "id": "b00ea4d6",
   "metadata": {
    "scrolled": true
   },
   "outputs": [
    {
     "data": {
      "text/plain": [
       "{'path': '.0006.scavengerhunt',\n",
       " 'mode': '100644',\n",
       " 'type': 'blob',\n",
       " 'sha': '1c9064284a24b3486015eafdb391b141c27ada2b',\n",
       " 'size': 3,\n",
       " 'url': 'https://api.github.com/repos/ironhack-datalabs/scavenger/git/blobs/1c9064284a24b3486015eafdb391b141c27ada2b'}"
      ]
     },
     "execution_count": 121,
     "metadata": {},
     "output_type": "execute_result"
    }
   ],
   "source": [
    "res.json()['tree'][0]['url']"
   ]
  },
  {
   "cell_type": "code",
   "execution_count": null,
   "id": "5836be26",
   "metadata": {},
   "outputs": [],
   "source": []
  },
  {
   "cell_type": "markdown",
   "id": "92c679ab",
   "metadata": {},
   "source": [
    "## 3."
   ]
  },
  {
   "cell_type": "code",
   "execution_count": 110,
   "id": "4a4d9205",
   "metadata": {},
   "outputs": [],
   "source": [
    "url3='https://api.github.com/repos/ironhack-datalabs/scavenger/git/blobs/1c9064284a24b3486015eafdb391b141c27ada2b'\n",
    "\n",
    "header={'Authorization': 'token ' + token}\n",
    "\n",
    "res=req.get(url3, headers=header)"
   ]
  },
  {
   "cell_type": "code",
   "execution_count": 112,
   "id": "1f807606",
   "metadata": {},
   "outputs": [
    {
     "data": {
      "text/plain": [
       "'b2YK\\n'"
      ]
     },
     "execution_count": 112,
     "metadata": {},
     "output_type": "execute_result"
    }
   ],
   "source": [
    "res.json()['content']"
   ]
  },
  {
   "cell_type": "code",
   "execution_count": 100,
   "id": "12bd9d16",
   "metadata": {},
   "outputs": [
    {
     "data": {
      "text/plain": [
       "'of'"
      ]
     },
     "execution_count": 100,
     "metadata": {},
     "output_type": "execute_result"
    }
   ],
   "source": [
    "import base64\n",
    "coded_string = res.json()['content']\n",
    "base64.b64decode(coded_string).decode(\"ascii\").replace(\"\\n\",\"\")"
   ]
  },
  {
   "cell_type": "markdown",
   "id": "491c40df",
   "metadata": {},
   "source": [
    "## Automatizamos la búsqueda de cada palabra"
   ]
  },
  {
   "cell_type": "code",
   "execution_count": 124,
   "id": "e68fd350",
   "metadata": {},
   "outputs": [],
   "source": [
    "url2='https://api.github.com/repos/ironhack-datalabs/scavenger/contents/'\n",
    "\n",
    "header={'Authorization': 'token ' + token}\n",
    "\n",
    "res=req.get(url2, headers=header)"
   ]
  },
  {
   "cell_type": "code",
   "execution_count": 131,
   "id": "22361e5f",
   "metadata": {},
   "outputs": [
    {
     "data": {
      "text/plain": [
       "['of',\n",
       " 'spent',\n",
       " '20',\n",
       " 'time',\n",
       " 'need',\n",
       " 'to',\n",
       " 'percent',\n",
       " 'complaining',\n",
       " 'is',\n",
       " 'data.',\n",
       " 'preparing',\n",
       " 'of',\n",
       " 'data,',\n",
       " 'prepare',\n",
       " 'the',\n",
       " 'science,',\n",
       " '80',\n",
       " 'about',\n",
       " 'spent',\n",
       " 'data',\n",
       " 'percent',\n",
       " 'time',\n",
       " 'is',\n",
       " 'In']"
      ]
     },
     "execution_count": 131,
     "metadata": {},
     "output_type": "execute_result"
    }
   ],
   "source": [
    "secret_content = []\n",
    "for i in range(1, len(res.json())):\n",
    "    res2 = req.get(res.json()[i]['git_url'], headers=header)\n",
    "    for j in range(len(res2.json()['tree'])):\n",
    "        if 'scavenger' in res2.json()['tree'][j]['path']:\n",
    "            res3 = req.get(res2.json()['tree'][j]['url'], headers= header)\n",
    "            coded_string = res3.json()['content']\n",
    "            word = base64.b64decode(coded_string).decode(\"ascii\").replace(\"\\n\",\"\")\n",
    "            secret_content.append(word)\n",
    "secret_content"
   ]
  },
  {
   "cell_type": "code",
   "execution_count": 133,
   "id": "8e3130d5",
   "metadata": {},
   "outputs": [
    {
     "name": "stdout",
     "output_type": "stream",
     "text": [
      "{'.0006.scavengerhunt': 'of', '.0008.scavengerhunt': 'spent', '.0012.scavengerhunt': '20', '.0007.scavengerhunt': 'time', '.0021.scavengerhunt': 'need', '.0022.scavengerhunt': 'to', '.0005.scavengerhunt': 'percent', '.0018.scavengerhunt': 'complaining', '.0016.scavengerhunt': 'is', '.0024.scavengerhunt': 'data.', '.0010.scavengerhunt': 'preparing', '.0014.scavengerhunt': 'of', '.0011.scavengerhunt': 'data,', '.0023.scavengerhunt': 'prepare', '.0020.scavengerhunt': 'the', '.0003.scavengerhunt': 'science,', '.0004.scavengerhunt': '80', '.0019.scavengerhunt': 'about', '.0017.scavengerhunt': 'spent', '.0002.scavengerhunt': 'data', '.0013.scavengerhunt': 'percent', '.0015.scavengerhunt': 'time', '.0009.scavengerhunt': 'is', '.0001.scavengerhunt': 'In'}\n"
     ]
    }
   ],
   "source": [
    "dict_ = {}\n",
    "for i in range(1, len(res.json())):\n",
    "    res2 = req.get(res.json()[i]['git_url'], headers=header)\n",
    "    for j in range(len(res2.json()['tree'])):\n",
    "        if 'scavenger' in res2.json()['tree'][j]['path']:\n",
    "            res3 = req.get(res2.json()['tree'][j]['url'], headers= header)\n",
    "            coded_string = res3.json()['content']\n",
    "            word = base64.b64decode(coded_string).decode(\"ascii\").replace(\"\\n\",\"\")\n",
    "            dict_[res2.json()['tree'][j]['path']] = word\n",
    "dict_"
   ]
  },
  {
   "cell_type": "code",
   "execution_count": 134,
   "id": "ae0f91bc",
   "metadata": {},
   "outputs": [
    {
     "data": {
      "text/plain": [
       "{'.0006.scavengerhunt': 'of',\n",
       " '.0008.scavengerhunt': 'spent',\n",
       " '.0012.scavengerhunt': '20',\n",
       " '.0007.scavengerhunt': 'time',\n",
       " '.0021.scavengerhunt': 'need',\n",
       " '.0022.scavengerhunt': 'to',\n",
       " '.0005.scavengerhunt': 'percent',\n",
       " '.0018.scavengerhunt': 'complaining',\n",
       " '.0016.scavengerhunt': 'is',\n",
       " '.0024.scavengerhunt': 'data.',\n",
       " '.0010.scavengerhunt': 'preparing',\n",
       " '.0014.scavengerhunt': 'of',\n",
       " '.0011.scavengerhunt': 'data,',\n",
       " '.0023.scavengerhunt': 'prepare',\n",
       " '.0020.scavengerhunt': 'the',\n",
       " '.0003.scavengerhunt': 'science,',\n",
       " '.0004.scavengerhunt': '80',\n",
       " '.0019.scavengerhunt': 'about',\n",
       " '.0017.scavengerhunt': 'spent',\n",
       " '.0002.scavengerhunt': 'data',\n",
       " '.0013.scavengerhunt': 'percent',\n",
       " '.0015.scavengerhunt': 'time',\n",
       " '.0009.scavengerhunt': 'is',\n",
       " '.0001.scavengerhunt': 'In'}"
      ]
     },
     "execution_count": 134,
     "metadata": {},
     "output_type": "execute_result"
    }
   ],
   "source": [
    "dict_"
   ]
  },
  {
   "cell_type": "code",
   "execution_count": 154,
   "id": "4db06003",
   "metadata": {},
   "outputs": [
    {
     "data": {
      "text/plain": [
       "OrderedDict([('.0001.scavengerhunt', 'In'),\n",
       "             ('.0002.scavengerhunt', 'data'),\n",
       "             ('.0003.scavengerhunt', 'science,'),\n",
       "             ('.0004.scavengerhunt', '80'),\n",
       "             ('.0005.scavengerhunt', 'percent'),\n",
       "             ('.0006.scavengerhunt', 'of'),\n",
       "             ('.0007.scavengerhunt', 'time'),\n",
       "             ('.0008.scavengerhunt', 'spent'),\n",
       "             ('.0009.scavengerhunt', 'is'),\n",
       "             ('.0010.scavengerhunt', 'preparing'),\n",
       "             ('.0011.scavengerhunt', 'data,'),\n",
       "             ('.0012.scavengerhunt', '20'),\n",
       "             ('.0013.scavengerhunt', 'percent'),\n",
       "             ('.0014.scavengerhunt', 'of'),\n",
       "             ('.0015.scavengerhunt', 'time'),\n",
       "             ('.0016.scavengerhunt', 'is'),\n",
       "             ('.0017.scavengerhunt', 'spent'),\n",
       "             ('.0018.scavengerhunt', 'complaining'),\n",
       "             ('.0019.scavengerhunt', 'about'),\n",
       "             ('.0020.scavengerhunt', 'the'),\n",
       "             ('.0021.scavengerhunt', 'need'),\n",
       "             ('.0022.scavengerhunt', 'to'),\n",
       "             ('.0023.scavengerhunt', 'prepare'),\n",
       "             ('.0024.scavengerhunt', 'data.')])"
      ]
     },
     "execution_count": 154,
     "metadata": {},
     "output_type": "execute_result"
    }
   ],
   "source": [
    "import collections\n",
    "\n",
    "ordered = collections.OrderedDict(sorted(dict_.items()))\n",
    "ordered"
   ]
  },
  {
   "cell_type": "code",
   "execution_count": 148,
   "id": "4715d376",
   "metadata": {},
   "outputs": [
    {
     "name": "stdout",
     "output_type": "stream",
     "text": [
      "Requirement already satisfied: sortedcontainers in c:\\users\\alejandro\\anaconda3\\lib\\site-packages (2.4.0)\n",
      "Note: you may need to restart the kernel to use updated packages.\n"
     ]
    }
   ],
   "source": [
    "%pip install sortedcontainers"
   ]
  },
  {
   "cell_type": "code",
   "execution_count": 156,
   "id": "65c240fe",
   "metadata": {},
   "outputs": [
    {
     "data": {
      "text/plain": [
       "['In',\n",
       " 'data',\n",
       " 'science,',\n",
       " '80',\n",
       " 'percent',\n",
       " 'of',\n",
       " 'time',\n",
       " 'spent',\n",
       " 'is',\n",
       " 'preparing',\n",
       " 'data,',\n",
       " '20',\n",
       " 'percent',\n",
       " 'of',\n",
       " 'time',\n",
       " 'is',\n",
       " 'spent',\n",
       " 'complaining',\n",
       " 'about',\n",
       " 'the',\n",
       " 'need',\n",
       " 'to',\n",
       " 'prepare',\n",
       " 'data.']"
      ]
     },
     "execution_count": 156,
     "metadata": {},
     "output_type": "execute_result"
    }
   ],
   "source": [
    "lst = []\n",
    "for key, value in ordered.items():\n",
    "    lst.append(value)\n",
    "lst    "
   ]
  },
  {
   "cell_type": "markdown",
   "id": "70f44fef",
   "metadata": {},
   "source": [
    "## Y la frase secreta es..."
   ]
  },
  {
   "cell_type": "code",
   "execution_count": 157,
   "id": "8f8a33fd",
   "metadata": {},
   "outputs": [
    {
     "data": {
      "text/plain": [
       "'In data science, 80 percent of time spent is preparing data, 20 percent of time is spent complaining about the need to prepare data.'"
      ]
     },
     "execution_count": 157,
     "metadata": {},
     "output_type": "execute_result"
    }
   ],
   "source": [
    "Secret = ' '.join(lst)\n",
    "Secret"
   ]
  },
  {
   "cell_type": "code",
   "execution_count": null,
   "id": "c17e9061",
   "metadata": {},
   "outputs": [],
   "source": []
  }
 ],
 "metadata": {
  "kernelspec": {
   "display_name": "Python 3 (ipykernel)",
   "language": "python",
   "name": "python3"
  },
  "language_info": {
   "codemirror_mode": {
    "name": "ipython",
    "version": 3
   },
   "file_extension": ".py",
   "mimetype": "text/x-python",
   "name": "python",
   "nbconvert_exporter": "python",
   "pygments_lexer": "ipython3",
   "version": "3.9.12"
  },
  "toc": {
   "base_numbering": 1,
   "nav_menu": {},
   "number_sections": true,
   "sideBar": true,
   "skip_h1_title": true,
   "title_cell": "Table of Contents",
   "title_sidebar": "Contents",
   "toc_cell": false,
   "toc_position": {},
   "toc_section_display": true,
   "toc_window_display": true
  }
 },
 "nbformat": 4,
 "nbformat_minor": 5
}
